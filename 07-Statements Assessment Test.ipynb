{
 "cells": [
  {
   "cell_type": "markdown",
   "metadata": {},
   "source": [
    "___\n",
    "\n",
    "<a href='https://www.udemy.com/user/joseportilla/'><img src='../Pierian_Data_Logo.png'/></a>\n",
    "___\n",
    "<center><em>Content Copyright by Pierian Data</em></center>"
   ]
  },
  {
   "cell_type": "markdown",
   "metadata": {
    "collapsed": true
   },
   "source": [
    "# Statements Assessment Test\n",
    "Let's test your knowledge!"
   ]
  },
  {
   "cell_type": "markdown",
   "metadata": {},
   "source": [
    "_____\n",
    "**Use <code>for</code>, .split(), and <code>if</code> to create a Statement that will print out words that start with 's':**"
   ]
  },
  {
   "cell_type": "code",
   "execution_count": 14,
   "metadata": {},
   "outputs": [],
   "source": [
    "st = 'Print only the words that start with s in this sentence'"
   ]
  },
  {
   "cell_type": "code",
   "execution_count": 15,
   "metadata": {},
   "outputs": [
    {
     "name": "stdout",
     "output_type": "stream",
     "text": [
      "start\n",
      "s\n",
      "sentence\n"
     ]
    }
   ],
   "source": [
    "#Code here\n",
    "for words in st.split():\n",
    "    if words[0] == 's':\n",
    "        print(words)"
   ]
  },
  {
   "cell_type": "markdown",
   "metadata": {},
   "source": [
    "______\n",
    "**Use range() to print all the even numbers from 0 to 10.**"
   ]
  },
  {
   "cell_type": "code",
   "execution_count": 16,
   "metadata": {},
   "outputs": [
    {
     "name": "stdout",
     "output_type": "stream",
     "text": [
      "the even numbers are: 0\n",
      "the even numbers are: 2\n",
      "the even numbers are: 4\n",
      "the even numbers are: 6\n",
      "the even numbers are: 8\n",
      "the even numbers are: 10\n"
     ]
    }
   ],
   "source": [
    "#Code Here\n",
    "for i in range(11):\n",
    "    if i % 2 == 0:\n",
    "        print('the even numbers are:',i)"
   ]
  },
  {
   "cell_type": "code",
   "execution_count": 17,
   "metadata": {},
   "outputs": [
    {
     "data": {
      "text/plain": [
       "[0, 2, 4, 6, 8, 10]"
      ]
     },
     "execution_count": 17,
     "metadata": {},
     "output_type": "execute_result"
    }
   ],
   "source": [
    "list(range(0,11,2))"
   ]
  },
  {
   "cell_type": "markdown",
   "metadata": {},
   "source": [
    "___\n",
    "**Use a List Comprehension to create a list of all numbers between 1 and 50 that are divisible by 3.**"
   ]
  },
  {
   "cell_type": "code",
   "execution_count": 18,
   "metadata": {},
   "outputs": [
    {
     "name": "stdout",
     "output_type": "stream",
     "text": [
      "3\n",
      "6\n",
      "9\n",
      "12\n",
      "15\n",
      "18\n",
      "21\n",
      "24\n",
      "27\n",
      "30\n",
      "33\n",
      "36\n",
      "39\n",
      "42\n",
      "45\n",
      "48\n"
     ]
    }
   ],
   "source": [
    "for i in range(1,51):\n",
    "    if i % 3 == 0:\n",
    "        print(i)"
   ]
  },
  {
   "cell_type": "code",
   "execution_count": 19,
   "metadata": {},
   "outputs": [
    {
     "data": {
      "text/plain": [
       "[3, 6, 9, 12, 15, 18, 21, 24, 27, 30, 33, 36, 39, 42, 45, 48]"
      ]
     },
     "execution_count": 19,
     "metadata": {},
     "output_type": "execute_result"
    }
   ],
   "source": [
    "#Code in this cell\n",
    "mylist=[]\n",
    "mylist=[i for i in range(1,51) if i % 3 == 0]\n",
    "mylist"
   ]
  },
  {
   "cell_type": "markdown",
   "metadata": {},
   "source": [
    "_____\n",
    "**Go through the string below and if the length of a word is even print \"even!\"**"
   ]
  },
  {
   "cell_type": "code",
   "execution_count": 20,
   "metadata": {},
   "outputs": [],
   "source": [
    "st = 'Print every word in this sentence that has an even number of letters'"
   ]
  },
  {
   "cell_type": "code",
   "execution_count": 21,
   "metadata": {},
   "outputs": [
    {
     "name": "stdout",
     "output_type": "stream",
     "text": [
      "word with even number of letters: word\n",
      "word with even number of letters: in\n",
      "word with even number of letters: this\n",
      "word with even number of letters: sentence\n",
      "word with even number of letters: that\n",
      "word with even number of letters: an\n",
      "word with even number of letters: even\n",
      "word with even number of letters: number\n",
      "word with even number of letters: of\n"
     ]
    }
   ],
   "source": [
    "#Code in this cell\n",
    "for words in st.split():\n",
    "    if len(words)%2 == 0:\n",
    "        print('word with even number of letters:',words)"
   ]
  },
  {
   "cell_type": "markdown",
   "metadata": {},
   "source": [
    "____\n",
    "**Write a program that prints the integers from 1 to 100. But for multiples of three print \"Fizz\" instead of the number, and for the multiples of five print \"Buzz\". For numbers which are multiples of both three and five print \"FizzBuzz\".**"
   ]
  },
  {
   "cell_type": "code",
   "execution_count": 22,
   "metadata": {},
   "outputs": [
    {
     "name": "stdout",
     "output_type": "stream",
     "text": [
      "1 is not divisible either by 3 and 5\n",
      "2 is not divisible either by 3 and 5\n",
      "3 fizz\n",
      "4 is not divisible either by 3 and 5\n",
      "5 buzz\n",
      "6 fizz\n",
      "7 is not divisible either by 3 and 5\n",
      "8 is not divisible either by 3 and 5\n",
      "9 fizz\n",
      "10 buzz\n",
      "11 is not divisible either by 3 and 5\n",
      "12 fizz\n",
      "13 is not divisible either by 3 and 5\n",
      "14 is not divisible either by 3 and 5\n",
      "15 fizzbuzz\n",
      "16 is not divisible either by 3 and 5\n",
      "17 is not divisible either by 3 and 5\n",
      "18 fizz\n",
      "19 is not divisible either by 3 and 5\n",
      "20 buzz\n",
      "21 fizz\n",
      "22 is not divisible either by 3 and 5\n",
      "23 is not divisible either by 3 and 5\n",
      "24 fizz\n",
      "25 buzz\n",
      "26 is not divisible either by 3 and 5\n",
      "27 fizz\n",
      "28 is not divisible either by 3 and 5\n",
      "29 is not divisible either by 3 and 5\n",
      "30 fizzbuzz\n",
      "31 is not divisible either by 3 and 5\n",
      "32 is not divisible either by 3 and 5\n",
      "33 fizz\n",
      "34 is not divisible either by 3 and 5\n",
      "35 buzz\n",
      "36 fizz\n",
      "37 is not divisible either by 3 and 5\n",
      "38 is not divisible either by 3 and 5\n",
      "39 fizz\n",
      "40 buzz\n",
      "41 is not divisible either by 3 and 5\n",
      "42 fizz\n",
      "43 is not divisible either by 3 and 5\n",
      "44 is not divisible either by 3 and 5\n",
      "45 fizzbuzz\n",
      "46 is not divisible either by 3 and 5\n",
      "47 is not divisible either by 3 and 5\n",
      "48 fizz\n",
      "49 is not divisible either by 3 and 5\n",
      "50 buzz\n",
      "51 fizz\n",
      "52 is not divisible either by 3 and 5\n",
      "53 is not divisible either by 3 and 5\n",
      "54 fizz\n",
      "55 buzz\n",
      "56 is not divisible either by 3 and 5\n",
      "57 fizz\n",
      "58 is not divisible either by 3 and 5\n",
      "59 is not divisible either by 3 and 5\n",
      "60 fizzbuzz\n",
      "61 is not divisible either by 3 and 5\n",
      "62 is not divisible either by 3 and 5\n",
      "63 fizz\n",
      "64 is not divisible either by 3 and 5\n",
      "65 buzz\n",
      "66 fizz\n",
      "67 is not divisible either by 3 and 5\n",
      "68 is not divisible either by 3 and 5\n",
      "69 fizz\n",
      "70 buzz\n",
      "71 is not divisible either by 3 and 5\n",
      "72 fizz\n",
      "73 is not divisible either by 3 and 5\n",
      "74 is not divisible either by 3 and 5\n",
      "75 fizzbuzz\n",
      "76 is not divisible either by 3 and 5\n",
      "77 is not divisible either by 3 and 5\n",
      "78 fizz\n",
      "79 is not divisible either by 3 and 5\n",
      "80 buzz\n",
      "81 fizz\n",
      "82 is not divisible either by 3 and 5\n",
      "83 is not divisible either by 3 and 5\n",
      "84 fizz\n",
      "85 buzz\n",
      "86 is not divisible either by 3 and 5\n",
      "87 fizz\n",
      "88 is not divisible either by 3 and 5\n",
      "89 is not divisible either by 3 and 5\n",
      "90 fizzbuzz\n",
      "91 is not divisible either by 3 and 5\n",
      "92 is not divisible either by 3 and 5\n",
      "93 fizz\n",
      "94 is not divisible either by 3 and 5\n",
      "95 buzz\n",
      "96 fizz\n",
      "97 is not divisible either by 3 and 5\n",
      "98 is not divisible either by 3 and 5\n",
      "99 fizz\n"
     ]
    }
   ],
   "source": [
    "#Code in this cell\n",
    "for i in range(1,100):\n",
    "    if i % 3 == 0 and i % 5 == 0:\n",
    "        print(i,\"fizzbuzz\")\n",
    "    elif i % 3 == 0:\n",
    "        print(i,'fizz')\n",
    "    elif i % 5 == 0:\n",
    "        print(i,'buzz')\n",
    "    else:\n",
    "        print(i,'is not divisible either by 3 and 5')"
   ]
  },
  {
   "cell_type": "markdown",
   "metadata": {},
   "source": [
    "____\n",
    "**Use List Comprehension to create a list of the first letters of every word in the string below:**"
   ]
  },
  {
   "cell_type": "code",
   "execution_count": 23,
   "metadata": {},
   "outputs": [],
   "source": [
    "st = 'Create a list of the first letters of every word in this string'"
   ]
  },
  {
   "cell_type": "code",
   "execution_count": 26,
   "metadata": {},
   "outputs": [
    {
     "data": {
      "text/plain": [
       "['C', 'a', 'l', 'o', 't', 'f', 'l', 'o', 'e', 'w', 'i', 't', 's']"
      ]
     },
     "execution_count": 26,
     "metadata": {},
     "output_type": "execute_result"
    }
   ],
   "source": [
    "[words[0] for words in st.split()]"
   ]
  },
  {
   "cell_type": "markdown",
   "metadata": {},
   "source": [
    "### Great Job!"
   ]
  }
 ],
 "metadata": {
  "kernelspec": {
   "display_name": "Python 3 (ipykernel)",
   "language": "python",
   "name": "python3"
  },
  "language_info": {
   "codemirror_mode": {
    "name": "ipython",
    "version": 3
   },
   "file_extension": ".py",
   "mimetype": "text/x-python",
   "name": "python",
   "nbconvert_exporter": "python",
   "pygments_lexer": "ipython3",
   "version": "3.11.3"
  }
 },
 "nbformat": 4,
 "nbformat_minor": 1
}
